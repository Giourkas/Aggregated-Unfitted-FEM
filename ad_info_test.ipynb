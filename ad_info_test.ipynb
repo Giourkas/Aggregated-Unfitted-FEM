{
 "cells": [
  {
   "cell_type": "markdown",
   "metadata": {},
   "source": [
    "Tests the `AdInfo` and `CusterInfo` classes"
   ]
  },
  {
   "cell_type": "code",
   "execution_count": 1,
   "metadata": {},
   "outputs": [],
   "source": [
    "import netgen.gui\n",
    "%gui tk\n",
    "\n",
    "# ngsolve stuff\n",
    "from ngsolve import *\n",
    "# basic geometry features (for the background mesh)\n",
    "from netgen.geom2d import SplineGeometry\n",
    "# visualization stuff\n",
    "from ngsolve.internal import *\n",
    "\n",
    "# basic xfem functionality\n",
    "from xfem import *\n",
    "square = SplineGeometry()\n",
    "square.AddRectangle([-1.5,-1.5],[1.5,1.5],bc=1)\n",
    "#Setup and draw the mesh that we use for testing.\n",
    "mesh = Mesh (square.GenerateMesh(maxh=0.3, quad_dominated=False))\n",
    "Draw(mesh)\n",
    "Redraw()"
   ]
  },
  {
   "cell_type": "code",
   "execution_count": 2,
   "metadata": {},
   "outputs": [],
   "source": [
    "from ad_info import *"
   ]
  },
  {
   "cell_type": "markdown",
   "metadata": {},
   "source": [
    "Testing getting adjacent faces from a given face."
   ]
  },
  {
   "cell_type": "code",
   "execution_count": 3,
   "metadata": {},
   "outputs": [
    {
     "name": "stdout",
     "output_type": "stream",
     "text": [
      "Drawing elements 3\n",
      "[20, 1, 87]\n"
     ]
    }
   ],
   "source": [
    "#setup the AdInfo data\n",
    "ad = AdInfo(mesh)\n",
    "# does basicially the same thing as ad.test_f2f(22)\n",
    "def ShowFaces(element_list):\n",
    "    gf_e = GridFunction(L2(mesh))\n",
    "    for f_id in element_list:\n",
    "        gf_e.vec[ad.face_to_element[f_id]] = True\n",
    "    Draw(gf_e, mesh, \"show_lements\")\n",
    "    print(\"Drawing elements\", len(element_list))\n",
    "ShowFaces(ad.get_ajacent_faces(22))\n",
    "print(ad.get_ajacent_faces(22))\n",
    "Redraw()"
   ]
  },
  {
   "cell_type": "code",
   "execution_count": 4,
   "metadata": {},
   "outputs": [],
   "source": [
    "ad.test_f2f(22)"
   ]
  },
  {
   "cell_type": "markdown",
   "metadata": {},
   "source": [
    "Testing building clusters, for the inner area defined by $\\{(x,z) | sqrt(x^2+y^2) < R\\}$"
   ]
  },
  {
   "cell_type": "code",
   "execution_count": 5,
   "metadata": {},
   "outputs": [],
   "source": [
    "from cluster_info import *\n",
    "\n",
    "R=0.8\n",
    "levelset = sqrt(x**2+y**2)-R\n",
    "\n",
    "lsetp1 = GridFunction(H1(mesh))\n",
    "lsetp1.Set(levelset)\n",
    "Draw(levelset,mesh,\"levelset\")"
   ]
  },
  {
   "cell_type": "code",
   "execution_count": 6,
   "metadata": {},
   "outputs": [],
   "source": [
    "ci = CutInfo(mesh,lsetp1)\n",
    "cluter_info = CusterInfo(ad, ci)"
   ]
  },
  {
   "cell_type": "markdown",
   "metadata": {},
   "source": [
    "Display the CutInfo"
   ]
  },
  {
   "cell_type": "code",
   "execution_count": 7,
   "metadata": {},
   "outputs": [],
   "source": [
    "def ShowInner():\n",
    "    ci_if = ci.GetElementsOfType(IF)\n",
    "    gf_enumbers = GridFunction(L2(mesh))\n",
    "    \n",
    "    for i in range(len(gf_enumbers.vec)):\n",
    "        gf_enumbers.vec[i] = ci_if[i]\n",
    "    Draw(gf_enumbers,mesh, \"cut_info\")\n",
    "ShowInner()"
   ]
  },
  {
   "cell_type": "markdown",
   "metadata": {},
   "source": [
    "Display the calculated clusters."
   ]
  },
  {
   "cell_type": "code",
   "execution_count": 8,
   "metadata": {},
   "outputs": [],
   "source": [
    "cluter_info.draw_clusters()"
   ]
  }
 ],
 "metadata": {
  "kernelspec": {
   "display_name": "Python 3",
   "language": "python",
   "name": "python3"
  },
  "language_info": {
   "codemirror_mode": {
    "name": "ipython",
    "version": 3
   },
   "file_extension": ".py",
   "mimetype": "text/x-python",
   "name": "python",
   "nbconvert_exporter": "python",
   "pygments_lexer": "ipython3",
   "version": "3.6.5"
  }
 },
 "nbformat": 4,
 "nbformat_minor": 2
}
