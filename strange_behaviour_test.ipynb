{
 "cells": [
  {
   "cell_type": "code",
   "execution_count": 1,
   "metadata": {},
   "outputs": [],
   "source": [
    "import netgen.gui\n",
    "import traceback\n",
    "import logging\n",
    "\n",
    "%gui tk\n",
    "\n",
    "\n",
    "# ngsolve stuff\n",
    "from ngsolve import *\n",
    "# basic geometry features (for the background mesh)\n",
    "from netgen.geom2d import SplineGeometry\n",
    "# visualization stuff\n",
    "from ngsolve.internal import *\n",
    "\n",
    "from netgen.csg import unit_cube"
   ]
  },
  {
   "cell_type": "markdown",
   "metadata": {},
   "source": [
    "Our testing data"
   ]
  },
  {
   "cell_type": "code",
   "execution_count": 2,
   "metadata": {},
   "outputs": [],
   "source": [
    "square = SplineGeometry()\n",
    "square.AddRectangle([-1.5,-1.5],[1.5,1.5],bc=1)\n",
    "mesh = Mesh (square.GenerateMesh(maxh=0.4, quad_dominated=False))\n",
    "mesh3 = Mesh(unit_cube.GenerateMesh(maxh=1))\n",
    "Draw(mesh)"
   ]
  },
  {
   "cell_type": "markdown",
   "metadata": {},
   "source": [
    "The Faces are numbered differnttly than the Elements even though Elements are the Faces in 2D meshes by definition."
   ]
  },
  {
   "cell_type": "code",
   "execution_count": 3,
   "metadata": {},
   "outputs": [
    {
     "name": "stdout",
     "output_type": "stream",
     "text": [
      "0 0\n",
      "1 4\n",
      "2 6\n",
      "3 7\n",
      "4 8\n",
      "5 9\n",
      "6 10\n",
      "7 11\n",
      "8 12\n",
      "9 13\n",
      "10 14\n",
      "11 15\n",
      "12 1\n",
      "13 18\n",
      "14 19\n",
      "15 20\n",
      "16 21\n",
      "17 22\n",
      "18 23\n",
      "19 24\n",
      "20 25\n",
      "21 26\n",
      "22 27\n",
      "23 28\n",
      "24 2\n",
      "25 31\n",
      "26 32\n",
      "27 33\n",
      "28 34\n",
      "29 35\n",
      "30 36\n",
      "31 37\n",
      "32 38\n",
      "33 39\n",
      "34 40\n",
      "35 41\n",
      "36 3\n",
      "37 44\n",
      "38 45\n",
      "39 46\n",
      "40 47\n",
      "41 48\n",
      "42 49\n",
      "43 50\n",
      "44 51\n",
      "45 52\n",
      "46 5\n",
      "47 16\n",
      "48 29\n",
      "49 42\n",
      "50 53\n",
      "51 54\n",
      "52 58\n",
      "53 56\n",
      "54 59\n",
      "55 62\n",
      "56 64\n",
      "57 65\n",
      "58 17\n",
      "59 70\n",
      "60 68\n",
      "61 71\n",
      "62 30\n",
      "63 72\n",
      "64 73\n",
      "65 74\n",
      "66 75\n",
      "67 80\n",
      "68 78\n",
      "69 81\n",
      "70 43\n",
      "71 82\n",
      "72 83\n",
      "73 84\n",
      "74 85\n",
      "75 55\n",
      "76 90\n",
      "77 88\n",
      "78 91\n",
      "79 92\n",
      "80 93\n",
      "81 76\n",
      "82 60\n",
      "83 61\n",
      "84 63\n",
      "85 66\n",
      "86 86\n",
      "87 57\n",
      "88 87\n",
      "89 69\n",
      "90 67\n",
      "91 79\n",
      "92 77\n",
      "93 94\n",
      "94 95\n",
      "95 89\n",
      "96 100\n",
      "97 103\n",
      "98 104\n",
      "99 107\n",
      "100 109\n",
      "101 110\n",
      "102 113\n",
      "103 115\n",
      "104 97\n",
      "105 96\n",
      "106 105\n",
      "107 108\n",
      "108 116\n",
      "109 111\n",
      "110 114\n",
      "111 117\n",
      "112 102\n",
      "113 101\n",
      "114 118\n",
      "115 106\n",
      "116 112\n",
      "117 98\n",
      "118 99\n",
      "119 120\n",
      "120 119\n",
      "121 123\n",
      "122 122\n",
      "123 121\n"
     ]
    }
   ],
   "source": [
    "for e in mesh.Elements(VOL):\n",
    "    print(e.nr, e.faces[0].nr)"
   ]
  },
  {
   "cell_type": "markdown",
   "metadata": {},
   "source": [
    "Getting the associated elements from a face does not seem work, unlike one would expect, `len(f.elements)` might return 0 in 2D meshes for some faces.\n",
    "\n",
    "however if it does not return 0, it always returns a one element list containing the same id as the id of the face."
   ]
  },
  {
   "cell_type": "code",
   "execution_count": 4,
   "metadata": {},
   "outputs": [
    {
     "name": "stdout",
     "output_type": "stream",
     "text": [
      "f2e  F0   VEl 0\n",
      "f2e  F86   VEl 86\n",
      "f2e  F88   VEl 88\n",
      "f2e  F94   VEl 94\n",
      "f2e  F106   VEl 106\n",
      "f2e  F107   VEl 107\n",
      "f2e  F122   VEl 122\n",
      "Num Elements: 124\n",
      "Num Faces: 124\n",
      "Num Elements associates to faces: 7\n"
     ]
    }
   ],
   "source": [
    "#these two differnt ways to count the number of elements do not give the same result.\n",
    "sum_elements = 0\n",
    "sum_elements_2 = 0\n",
    "sum_faces = 0\n",
    "for f in mesh.Elements(VOL):\n",
    "    sum_elements_2 += 1\n",
    "for f in mesh.faces:\n",
    "    if len(f.elements) > 0:\n",
    "        print(\"f2e \", f, \" \", f.elements[0])\n",
    "    sum_elements += len(f.elements)\n",
    "    sum_faces += 1\n",
    "print(\"Num Elements:\", sum_elements_2)\n",
    "print(\"Num Faces:\", sum_faces)\n",
    "print(\"Num Elements associates to faces:\", sum_elements)"
   ]
  },
  {
   "cell_type": "markdown",
   "metadata": {},
   "source": [
    "The other way however works. Getting the face id from an element."
   ]
  },
  {
   "cell_type": "code",
   "execution_count": 5,
   "metadata": {},
   "outputs": [
    {
     "name": "stdout",
     "output_type": "stream",
     "text": [
      "element id matches face id at 0\n",
      "element id matches face id at 86\n",
      "element id matches face id at 122\n",
      "e2f 86 86\n",
      "e2f 88 87\n",
      "e2f 94 95\n",
      "e2f 106 105\n",
      "e2f 107 108\n",
      "e2f 122 122\n"
     ]
    }
   ],
   "source": [
    "elements_to_face = [e.faces[0].nr for e in mesh.Elements(VOL)]\n",
    "for counter, f_id in enumerate(elements_to_face):\n",
    "    if counter == f_id:\n",
    "        print('element id matches face id at', counter)\n",
    "#even for the faces where the face_to_element function form \n",
    "#the first block gave the same faceids and element ids the\n",
    "#elements_to_face function returns differnt values\n",
    "for index in [86, 88, 94, 106, 107, 122]:\n",
    "    print('e2f', index, elements_to_face[index])\n"
   ]
  },
  {
   "cell_type": "markdown",
   "metadata": {},
   "source": [
    "`mesh.Elements(VOL)` can ( unlike `mesh[NodeId(ELEMENT, i)]` as seen below) be used to give information about the verticies of an element, (`mesh[NodeId(FACE, i)]` can also do that)."
   ]
  },
  {
   "cell_type": "code",
   "execution_count": 6,
   "metadata": {},
   "outputs": [
    {
     "name": "stdout",
     "output_type": "stream",
     "text": [
      "(V4, V5, V8, V7)\n"
     ]
    }
   ],
   "source": [
    "try:\n",
    "    a = next(x for x in mesh3.Elements(VOL))\n",
    "    print(a.vertices)#this one works\n",
    "except Exception as e:\n",
    "    print(traceback.format_exc()) "
   ]
  },
  {
   "cell_type": "markdown",
   "metadata": {},
   "source": [
    "the types `NodeId(ELEMENT, 0)` and `NodeId(FACET, 0)` are basicially useless."
   ]
  },
  {
   "cell_type": "code",
   "execution_count": 7,
   "metadata": {},
   "outputs": [
    {
     "name": "stdout",
     "output_type": "stream",
     "text": [
      "NODE_TYPE.VERTEX has: edges elements point\n",
      "NODE_TYPE.EDGE has: vertices elements\n",
      "NODE_TYPE.FACE has: vertices edges elements\n",
      "NODE_TYPE.CELL has:\n",
      "NODE_TYPE.FACET has:\n",
      "NODE_TYPE.ELEMENT has:\n"
     ]
    }
   ],
   "source": [
    "nodetyes = [VERTEX, EDGE, FACE, CELL, FACET, ELEMENT]\n",
    "nodeattrs = [\"vertices\", \"edges\", \"faces\", \"cells\", \"facets\", \"elements\", \"point\"]\n",
    "for t in nodetyes:\n",
    "    desc =  str(t) + \" has:\"\n",
    "    for a in nodeattrs:\n",
    "        try:\n",
    "            if hasattr(mesh[NodeId(t, 0)], a):\n",
    "                desc = desc + \" \" + a\n",
    "        except TypeError:\n",
    "            pass\n",
    "        except IndexError:\n",
    "            #this test does not work for CELLS  if mesh is a 2d grid. \n",
    "            pass\n",
    "    print(desc)\n",
    "#for i in range(100):\n",
    "#    print(len(mesh[NodeId(ELEMENT, i)].edges))\n",
    "#help(mesh[NodeId(ELEMENT, 0)])"
   ]
  },
  {
   "cell_type": "markdown",
   "metadata": {},
   "source": [
    "as seen above, in the 2D case the numering of FACES and ELEMENTS are differnt \n",
    "and one can convert between ELEMENT numbers and FACE numbers by using \n",
    "`elements_to_face = [e.faces[0].nr for e in mesh.Elements(VOL)]`, since\n",
    "this is clearly a 1:1 correspondance. However,\n",
    "it is unclear whether the numering between CELLS and ELEMENTS is\n",
    "also different in the 3D case and if yes, how to convert them since the\n",
    "objects that Elements(VOL) iterates over does not seem to have a `cells` member"
   ]
  },
  {
   "cell_type": "code",
   "execution_count": 8,
   "metadata": {},
   "outputs": [
    {
     "name": "stdout",
     "output_type": "stream",
     "text": [
      "Traceback (most recent call last):\n",
      "  File \"<ipython-input-8-1ccc6313bd4a>\", line 3, in <module>\n",
      "    print(a.cells)\n",
      "AttributeError: 'ngsolve.comp.Ngs_Element' object has no attribute 'cells'\n",
      "\n"
     ]
    }
   ],
   "source": [
    "try:\n",
    "    a = next(x for x in mesh3.Elements(VOL))\n",
    "    print(a.cells)\n",
    "except Exception as e:\n",
    "    print(traceback.format_exc())"
   ]
  },
  {
   "cell_type": "markdown",
   "metadata": {},
   "source": [
    "`Draw()` fails silently when the name contains a space"
   ]
  },
  {
   "cell_type": "code",
   "execution_count": 9,
   "metadata": {},
   "outputs": [],
   "source": [
    "def DrawTest():\n",
    "    l2 = L2(mesh)\n",
    "    gf_e = GridFunction(l2)\n",
    "    gf_e.vec[0] = True\n",
    "    Draw(gf_e, mesh, \"first element\")\n",
    "DrawTest()"
   ]
  }
 ],
 "metadata": {
  "kernelspec": {
   "display_name": "Python 3",
   "language": "python",
   "name": "python3"
  },
  "language_info": {
   "codemirror_mode": {
    "name": "ipython",
    "version": 3
   },
   "file_extension": ".py",
   "mimetype": "text/x-python",
   "name": "python",
   "nbconvert_exporter": "python",
   "pygments_lexer": "ipython3",
   "version": "3.6.5"
  }
 },
 "nbformat": 4,
 "nbformat_minor": 2
}
