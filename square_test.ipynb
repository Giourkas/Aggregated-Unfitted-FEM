{
 "cells": [
  {
   "cell_type": "code",
   "execution_count": 1,
   "metadata": {},
   "outputs": [],
   "source": [
    "#config block\n",
    "\n",
    "#Set to true to make the test use a siplex mesh instead of a grid\n",
    "config_use_simplicies = False"
   ]
  },
  {
   "cell_type": "markdown",
   "metadata": {},
   "source": [
    "Import stuff"
   ]
  },
  {
   "cell_type": "code",
   "execution_count": 2,
   "metadata": {},
   "outputs": [],
   "source": [
    "import netgen.gui\n",
    "%gui tk\n",
    "\n",
    "from netgen.geom2d import SplineGeometry\n",
    "from netgen.meshing import MeshingParameters\n",
    "from ngsolve import *\n",
    "from xfem import *\n",
    "# For LevelSetAdaptationMachinery\n",
    "from xfem.lsetcurv import *\n",
    "from make_uniform2D_grid import * \n",
    "import types\n",
    "\n",
    "import numpy as np\n",
    "\n",
    "from scipy.sparse.linalg import inv\n",
    "from scipy import sparse as sp\n",
    "from functools import wraps # This convenience func preserves name and docstring\n"
   ]
  },
  {
   "cell_type": "markdown",
   "metadata": {},
   "source": [
    "In order to test  this document's method for different mesh sizes, we put everything in methods of a 'SquareTest' class."
   ]
  },
  {
   "cell_type": "code",
   "execution_count": 3,
   "metadata": {},
   "outputs": [],
   "source": [
    "#our 'class', but scattered over this jupyter notebook. \n",
    "class SquareTest(object):\n",
    "    pass\n",
    "\n",
    "def add_method(cls):\n",
    "    def decorator(func):\n",
    "        setattr(cls, func.__name__, func)\n",
    "        return func # returning func means func can still be used normally\n",
    "    return decorator\n"
   ]
  },
  {
   "cell_type": "markdown",
   "metadata": {},
   "source": [
    "Setup the Mesh"
   ]
  },
  {
   "cell_type": "code",
   "execution_count": 4,
   "metadata": {},
   "outputs": [],
   "source": [
    "\n",
    "st = SquareTest()\n",
    "\n",
    "@add_method(SquareTest)\n",
    "def create_mesh(self, N):\n",
    "    self.mesh = MakeUniform2DGrid(quads=True,N=N,P1=(-1,-1),P2=(1,1))\n",
    "    if config_use_simplicies:\n",
    "        #test for simplicies\n",
    "        square = SplineGeometry()\n",
    "        square.AddRectangle([-1,-1],[1,1],bc=1)\n",
    "        self.mesh = Mesh(square.GenerateMesh(maxh=0.25, quad_dominated=False))\n",
    "        \n",
    "st.create_mesh(10)\n",
    "Draw(st.mesh)"
   ]
  },
  {
   "cell_type": "markdown",
   "metadata": {},
   "source": [
    "helper functions"
   ]
  },
  {
   "cell_type": "code",
   "execution_count": 5,
   "metadata": {},
   "outputs": [],
   "source": [
    "# helper function we need later to calculate the conditional number.\n",
    "# @param A : a scipy.sparse matrix\n",
    "def linalg_cond(A):\n",
    "    norm_A = sp.linalg.norm(A)\n",
    "    norm_invA = sp.linalg.norm(sp.linalg.inv(A))\n",
    "    return norm_A*norm_invA\n",
    "\n",
    "#shows draws an image with the given Vertex highlighted\n",
    "def ShowGlobalVertex(i):\n",
    "    gf_v = GridFunction(H1(self.mesh))\n",
    "    gf_v.vec[:]=0; gf_v.vec[i]=1\n",
    "    Draw(gf_v,st.mesh,\"current_vertex\")\n",
    "    print(\"Drawing vertex\",i)\n",
    "\n",
    "#shows draws an image with the given Element highlighted\n",
    "def ShowElement(i):\n",
    "    gf_e = GridFunction(L2(st.mesh))\n",
    "    gf_e.vec[:]=0; gf_e.vec[i]=1\n",
    "    Draw(gf_e,st.mesh,\"current_element\")\n",
    "    print(\"Drawing element\",i)   \n"
   ]
  },
  {
   "cell_type": "markdown",
   "metadata": {},
   "source": [
    "Setting up the test problem, we will get a liniar problem of the form\n",
    "\\begin{align}\n",
    "A g = f\n",
    "\\end{align}\n",
    "Where the colums&rows of A,f and g correpond to the degrees of freedom out H1 space which are in 1:1 correpsondance to the verticies in our mesh, after this we no longer need the detail of the problem we just work with the matricies A, f and the mesh information about the cut info."
   ]
  },
  {
   "cell_type": "code",
   "execution_count": 6,
   "metadata": {},
   "outputs": [],
   "source": [
    "######### SETUP of \"naive\" problem #########\n",
    "\n",
    "@add_method(SquareTest)\n",
    "def create_problem(self):\n",
    "    order = 1\n",
    "\n",
    "    R=0.8\n",
    "    levelset = 1*(sqrt(x**2+y**2)-R)\n",
    "    coeff_f = 10\n",
    "    exact = 2.5*(R**2 - (x**2+y**2))\n",
    "    # stabilization parameter for Nitsche\n",
    "    lambda_nitsche  = 100\n",
    "\n",
    "    h = specialcf.mesh_size   \n",
    "\n",
    "    lsetp1 = GridFunction(H1(self.mesh))\n",
    "    lsetp1.Set(levelset)\n",
    "    n_levelset = 1.0/Norm(grad(lsetp1)) * grad(lsetp1)\n",
    "\n",
    "    lset_neg = { \"levelset\" : lsetp1, \"domain_type\" : NEG, \"subdivlvl\" : 0}\n",
    "    lset_if  = { \"levelset\" : lsetp1, \"domain_type\" : IF , \"subdivlvl\" : 0}\n",
    "\n",
    "    # element, facet and dof marking w.r.t. boundary approximation with lsetp1:\n",
    "    ci = CutInfo(self.mesh,lsetp1)\n",
    "\n",
    "    Vh = H1(self.mesh, order = order, dirichlet=[])\n",
    "    #Vh = Compress(Vh,active_dofs)\n",
    "    #active_dofs = GetDofsOfElements(Vh,ci.GetElementsOfType(HASNEG))\n",
    "\n",
    "\n",
    "           \n",
    "    a = BilinearForm(Vh,symmetric=False)\n",
    "    f = LinearForm(Vh)\n",
    "            \n",
    "    u,v = Vh.TrialFunction(), Vh.TestFunction()\n",
    "\n",
    "    # Diffusion term\n",
    "    a += SymbolicBFI(lset_neg,form = grad(u)*grad(v), definedonelements=ci.GetElementsOfType(HASNEG))\n",
    "    # Nitsche term\n",
    "    nitsche_term  = -grad(u) * n_levelset * v\n",
    "    nitsche_term += -grad(v) * n_levelset * u\n",
    "    nitsche_term += (lambda_nitsche/h) * u * v\n",
    "    a += SymbolicBFI(lset_if, form = nitsche_term, definedonelements=ci.GetElementsOfType(IF))\n",
    "    # rhs term:\n",
    "    f += SymbolicLFI(lset_neg, form=coeff_f*v, definedonelements=ci.GetElementsOfType(HASNEG))\n",
    "\n",
    "\n",
    "    # ba_facets = GetFacetsWithNeighborTypes(mesh,a=ci.GetElementsOfType(HASNEG),b=ci.GetElementsOfType(IF))\n",
    "    # facets on which ghost penalty stabilization should be applied\n",
    "    # a += SymbolicFacetPatchBFI(form = 0.1*1.0/h*1.0/h*(u-u.Other())*(v-v.Other()),\n",
    "    #                            skeleton=False,\n",
    "    #                            definedonelements=ba_facets)\n",
    "\n",
    "\n",
    "    a.Assemble()\n",
    "    f.Assemble()\n",
    "    self.Vh = Vh\n",
    "    #the A g = f equation is what we will later reusce to a smaller equation with a better condition number.\n",
    "    self.a = a\n",
    "    self.f = f\n",
    "    #we need this information later to compare our calculated functions to this, to compute the error.\n",
    "    self.exact = exact\n",
    "    #we only need this to draw it.\n",
    "    self.levelset = levelset\n",
    "    #the cut information, the main ingridient for out later algothirm.\n",
    "    self.ci = ci\n",
    "    self.lset_neg = lset_neg\n",
    "    self.lset_if = lset_if\n",
    "    self.active_dofs = GetDofsOfElements(Vh, ci.GetElementsOfType(HASNEG))\n",
    "    self.inner_dofs = GetDofsOfElements(Vh, ci.GetElementsOfType(NEG))\n",
    "\n",
    "st.create_problem()\n",
    "Draw(st.levelset, st.mesh, \"levelset\")\n"
   ]
  },
  {
   "cell_type": "markdown",
   "metadata": {},
   "source": [
    "Solve the problem with the old method (just solving the $A g= f$ liniear equation) "
   ]
  },
  {
   "cell_type": "code",
   "execution_count": 7,
   "metadata": {},
   "outputs": [
    {
     "name": "stdout",
     "output_type": "stream",
     "text": [
      "Dofs: inner=45 active:89\n",
      "error: 0.02674610577984627\n",
      "norm 'a': 263.471660322\n"
     ]
    },
    {
     "name": "stderr",
     "output_type": "stream",
     "text": [
      "/usr/lib/python3/dist-packages/scipy/sparse/compressed.py:774: SparseEfficiencyWarning: Changing the sparsity structure of a csr_matrix is expensive. lil_matrix is more efficient.\n",
      "  SparseEfficiencyWarning)\n"
     ]
    },
    {
     "name": "stdout",
     "output_type": "stream",
     "text": [
      "conditional number: 271008880.852\n"
     ]
    }
   ],
   "source": [
    "def norm1(a):\n",
    "    A_rows,A_cols,A_vals = a.mat.COO()\n",
    "    return sp.linalg.norm(sp.csr_matrix((A_vals,(A_rows,A_cols))))\n",
    "\n",
    "# linalg_cond as defined as above does not work with BilinearForm objects so we need this.\n",
    "\n",
    "@add_method(SquareTest)\n",
    "def cond1(st):\n",
    "    #A = sp.lil_matrix((st.active_dofs.NumSet(), st.active_dofs.NumSet()))\n",
    "    A = sp.csr_matrix((st.active_dofs.NumSet(), st.active_dofs.NumSet()))\n",
    "    i2 = 0\n",
    "    #remove rows with zeroes to make linalg_cond happy (obviously this code could be optimized)\n",
    "    for i in range(len(st.inner_dofs)):\n",
    "        if st.active_dofs[i]:\n",
    "            j2 = 0\n",
    "            for j in range(len(st.inner_dofs)):\n",
    "                if st.active_dofs[j]:\n",
    "                    if st.a.mat[(i, j)] != 0:\n",
    "                        A[(i2, j2)] = st.a.mat[(i, j)]\n",
    "                    j2 = j2 + 1\n",
    "            i2 = i2 + 1\n",
    "    #return linalg_cond(A.tocsc())\n",
    "    return linalg_cond(A.tocsc())\n",
    "    \n",
    "\n",
    "@add_method(SquareTest)\n",
    "def old_method(self):\n",
    "    gfu = GridFunction(st.Vh)\n",
    "    gfu.vec.data = st.a.mat.Inverse(st.active_dofs) * st.f.vec\n",
    "              \n",
    "    l2error = sqrt(Integrate(st.lset_neg,(gfu-st.exact)*(gfu-st.exact), st.mesh))\n",
    "    print(\"error:\", l2error)\n",
    "    #Draw(lsetp1,mesh,\"lsetp1\")\n",
    "    #Draw(gfu,mesh,\"extu\")\n",
    "    #Draw(IfPos(-lsetp1,gfu,float('nan')),mesh,\"u\",sd=5)\n",
    "    print(\"norm 'a':\", norm1(st.a))\n",
    "    print(\"conditional number:\", cond1(st))\n",
    "    return gfu\n",
    "\n",
    "print(\"Dofs: inner=\" + str(st.inner_dofs.NumSet()) + \" active:\" + str(st.active_dofs.NumSet()))\n",
    "gfu = st.old_method()"
   ]
  },
  {
   "cell_type": "markdown",
   "metadata": {},
   "source": [
    "Build the clusters using the alghorithm"
   ]
  },
  {
   "cell_type": "code",
   "execution_count": 8,
   "metadata": {},
   "outputs": [],
   "source": [
    "from ad_info import *\n",
    "from cluster_info import *\n",
    "\n",
    "st.ad = AdInfo(st.mesh)\n",
    "st.cluster_info = CusterInfo(st.ad, st.ci)"
   ]
  },
  {
   "cell_type": "code",
   "execution_count": 9,
   "metadata": {},
   "outputs": [],
   "source": [
    "Draw(BitArrayCF(st.ci.GetElementsOfType(IF)), st.mesh, \"cut_elements\")"
   ]
  },
  {
   "cell_type": "markdown",
   "metadata": {},
   "source": [
    "Tests the Function to check adjaceny of two elements."
   ]
  },
  {
   "cell_type": "code",
   "execution_count": 10,
   "metadata": {},
   "outputs": [],
   "source": [
    "st.ad.test_f2f(3)"
   ]
  },
  {
   "cell_type": "markdown",
   "metadata": {},
   "source": [
    "Draws All the Clusters"
   ]
  },
  {
   "cell_type": "code",
   "execution_count": 11,
   "metadata": {},
   "outputs": [],
   "source": [
    "st.cluster_info.draw_clusters()"
   ]
  },
  {
   "cell_type": "code",
   "execution_count": 12,
   "metadata": {},
   "outputs": [],
   "source": [
    "from last_step import *"
   ]
  },
  {
   "cell_type": "markdown",
   "metadata": {},
   "source": [
    "`coefficient_calc` can now be used to calculate the coefficient t of the matrix C below"
   ]
  },
  {
   "cell_type": "code",
   "execution_count": 13,
   "metadata": {},
   "outputs": [],
   "source": [
    "st.coefficient_calc = LastStep(st.mesh, st.ci)"
   ]
  },
  {
   "cell_type": "markdown",
   "metadata": {},
   "source": [
    "Testing `coefficient_calc`, currently only works for grids."
   ]
  },
  {
   "cell_type": "code",
   "execution_count": 14,
   "metadata": {},
   "outputs": [],
   "source": [
    "# not really useful c_fix_row_test below can alos be use instead.\n",
    "if False and not config_use_simplicies:\n",
    "    ci_neg = st.ci.GetElementsOfType(NEG)\n",
    "    ci_if = st.ci.GetElementsOfType(IF)\n",
    "    ci_pos = st.ci.GetElementsOfType(POS)\n",
    "\n",
    "    for v in st.mesh.vertices:\n",
    "        adf = ad.get_vertex_ajacent_faces(v.nr)\n",
    "        #If v is adjacent to an inner cell we do not need to calculate the corresponding matrix row (it is the identity) \n",
    "        if not any(ci_neg[f_id] for f_id in adf):\n",
    "            ad_face = next( (f_id for f_id in adf if ci_if[f_id]), None)\n",
    "            #If v is not adjacent to a cut cell we do not need to calculate the corresponding matrix row (it is zero)\n",
    "            if not ad_face is None:\n",
    "                print(*coefficient_calc.do_squares_2D(v.nr, st.cluster_info.get_interpolation_face(v.nr)), sep=\",\")\n"
   ]
  },
  {
   "cell_type": "markdown",
   "metadata": {},
   "source": [
    "We restrict ourself to such solutions where the coefficents associated to the verticies that are not incident to an inner face are complteley determined by the coeffients on associated to the inner Vertices. The correspondance is descriped via a matrix $C$ such that when $b$ is the vector if inner coefficents that full vector fo coefficnets can be descripbed as $C  \\dot b$\n",
    "So the linear equation we have to solve in the end becomes\n",
    "\\begin{align}\n",
    "C^t A C g = C^t f\n",
    "\\end{align}\n",
    "$C$ is a matrix fo size Num_Dofs $\\times$ num_inner_dofs so in order to make useful things with the inner dof indicies we need a dictionary to convert these indicies."
   ]
  },
  {
   "cell_type": "markdown",
   "metadata": {},
   "source": [
    "`dof_to_innerdof` maps the dof ids to the restricted list for inner dofs. This is needed to calculate which column in the matrix `C` below corresponds to which dof of our Function space.\n",
    "`innerdof_to_dof` is the reverse map, `dof_to_innerdof` is -1 for verticies that do not correpsind to inner dofs."
   ]
  },
  {
   "cell_type": "code",
   "execution_count": 15,
   "metadata": {
    "scrolled": true
   },
   "outputs": [],
   "source": [
    "@add_method(SquareTest)\n",
    "def setup_dof_convert1(self):\n",
    "    self.dof_to_innerdof = [0 for i in range(self.Vh.ndof)]\n",
    "    self.innerdof_to_dof = []\n",
    "    for i, inner in enumerate(self.inner_dofs):\n",
    "        if inner:\n",
    "            self.dof_to_innerdof[i] = len(self.innerdof_to_dof)\n",
    "            self.innerdof_to_dof.append(i)\n",
    "        else:\n",
    "            self.dof_to_innerdof[i] = -1\n",
    "    self.n_innerdofs = len(self.innerdof_to_dof)\n",
    "    self.n_dofs = self.Vh.ndof\n",
    "\n",
    "st.setup_dof_convert1()\n",
    "@add_method(SquareTest)\n",
    "def dof_convert(self, i):\n",
    "    return self.dof_to_innerdof[i]"
   ]
  },
  {
   "cell_type": "markdown",
   "metadata": {},
   "source": [
    "Setup a list to map verticies to the assiciated Dofs ( = column/row numbers of the matrix a). In our case this will just end up being the identily map (`[1,2,3, ...]`), but i do not think the library guarantees that so its better to do this.\n",
    "\n",
    "the maps `dof_to_vertex` and `vertex_to_dof` are inverse to each other"
   ]
  },
  {
   "cell_type": "code",
   "execution_count": 16,
   "metadata": {},
   "outputs": [],
   "source": [
    "@add_method(SquareTest)\n",
    "def setup_dof_convert2(self):\n",
    "    self.dof_to_vertex_list = [None for i in range(self.Vh.ndof)]\n",
    "    for v in self.mesh.vertices:\n",
    "        self.dof_to_vertex_list[self.Vh.GetDofNrs(v)[0]] = v.nr\n",
    "st.setup_dof_convert2()\n",
    "@add_method(SquareTest)\n",
    "def dof_to_vertex(self, d_id):\n",
    "    return self.dof_to_vertex_list[d_id]\n",
    "@add_method(SquareTest)\n",
    "def vertex_to_dof(self, d_id):\n",
    "    return self.Vh.GetDofNrs(NodeId(VERTEX,d_id))[0]"
   ]
  },
  {
   "cell_type": "markdown",
   "metadata": {},
   "source": [
    "Now we have to tools to create the Matrix $C$, its rows can be categorizes as 3 types:\n",
    "\n",
    "If the row i corresponds to an outer vertex we have a row full of zeroes.\n",
    "\n",
    "If the row i corresponds to an inner vertex we have a zero row except at position (i,i) where we ahve a 1 entry.\n",
    "\n",
    "If the row i corresponds to an aggregate vertex we have to use coefficient_calc.get_coefficients to calculate the matrix entries."
   ]
  },
  {
   "cell_type": "code",
   "execution_count": 17,
   "metadata": {},
   "outputs": [],
   "source": [
    "\n",
    "#row_index must correspond to an aggreage vertex\n",
    "@add_method(SquareTest)\n",
    "def c_fix_row(self, row_index, C):\n",
    "    v_id = self.dof_to_vertex(row_index)\n",
    "    # print('v_id', row_index, v_id)\n",
    "    coefcients = self.coefficient_calc.get_coefficients(v_id, self.cluster_info.get_interpolation_face(v_id))\n",
    "    for c in coefcients:\n",
    "        dof = self.vertex_to_dof(c.vertex_id)\n",
    "        # print('dof', c.vertex_id, dof)\n",
    "        C[row_index, self.dof_convert(dof)] = c.coefficient\n",
    "\n",
    "        \n",
    "@add_method(SquareTest)\n",
    "def create_C(self):\n",
    "    C = sp.lil_matrix((self.n_dofs, self.n_innerdofs)) #(rows, columns)\n",
    "    for i in range(self.n_dofs):\n",
    "        if self.inner_dofs[i]:\n",
    "            #print(i, \"is inner\")\n",
    "            C[i, self.dof_convert(i)] = 1\n",
    "        elif self.active_dofs[i]:\n",
    "            #print(i, \"is active\")\n",
    "            self.c_fix_row(i, C)\n",
    "    return C\n",
    "\n",
    "C = st.create_C()"
   ]
  },
  {
   "cell_type": "markdown",
   "metadata": {},
   "source": [
    "Solving the linear Equation\n",
    "\\begin{align}\n",
    "C^t A C g = C^t f\n",
    "\\end{align}\n",
    "and store the resulting function in the `gfu2` variable. calculate the error and the conditional number and compare it to the original. The error is a bit worse in our example but the conditional number should be much better."
   ]
  },
  {
   "cell_type": "code",
   "execution_count": 18,
   "metadata": {
    "scrolled": true
   },
   "outputs": [
    {
     "name": "stdout",
     "output_type": "stream",
     "text": [
      "error new: 0.0807476565049812\n",
      "norm 'a' new: 1578.66199937\n",
      "conditional number new: 5892.10726404\n",
      "ndofs 121 ninnerdofs 45\n"
     ]
    },
    {
     "name": "stderr",
     "output_type": "stream",
     "text": [
      "/usr/lib/python3/dist-packages/scipy/sparse/linalg/dsolve/linsolve.py:253: SparseEfficiencyWarning: splu requires CSC matrix format\n",
      "  warn('splu requires CSC matrix format', SparseEfficiencyWarning)\n",
      "/usr/lib/python3/dist-packages/scipy/sparse/linalg/dsolve/linsolve.py:171: SparseEfficiencyWarning: spsolve is more efficient when sparse b is in the CSC matrix format\n",
      "  'is in the CSC matrix format', SparseEfficiencyWarning)\n"
     ]
    }
   ],
   "source": [
    "@add_method(SquareTest)\n",
    "def new_method(self, C):\n",
    "    C_t = C.transpose()\n",
    "    A_rows,A_cols,A_vals = self.a.mat.COO()\n",
    "    A = sp.csr_matrix((A_vals,(A_rows,A_cols)))\n",
    "    F = self.f.vec.FV().NumPy().copy()\n",
    "\n",
    "    A2 = C_t * A * C\n",
    "    F2 = C_t * F\n",
    "\n",
    "    gfu2 = GridFunction(self.Vh)\n",
    "    #gfu2.vec.data = a.mat.Inverse(active_dofs) * f.vec\n",
    "    data = C * inv(A2) * F2\n",
    "    for i in range(self.n_dofs):\n",
    "        #if inner_dofs[i]:\n",
    "        #    gfu2.vec[i] = data[dof_convert(i)]\n",
    "        gfu2.vec[i] = data[i]\n",
    "    #print(gfu2.vec)\n",
    "\n",
    "    l2error_2 = sqrt(Integrate(st.lset_neg,(gfu2-st.exact)*(gfu2-st.exact),st.mesh))\n",
    "\n",
    "    print(\"error new:\", l2error_2)\n",
    "    print(\"norm 'a' new:\", sp.linalg.norm(A2))\n",
    "    print(\"conditional number new:\", linalg_cond(A2))\n",
    "    return gfu2\n",
    "gfu2 = st.new_method(C)\n",
    "print(\"ndofs\", st.n_dofs, \"ninnerdofs\", st.n_innerdofs)"
   ]
  },
  {
   "cell_type": "markdown",
   "metadata": {},
   "source": [
    "Draw the results"
   ]
  },
  {
   "cell_type": "code",
   "execution_count": 19,
   "metadata": {},
   "outputs": [],
   "source": [
    "#The generated function using the simple old method\n",
    "Draw(gfu, st.mesh, \"original_gfu\")\n",
    "#The generated function using the new method\n",
    "Draw(gfu2, st.mesh, \"gfu2\")\n",
    "#The exact solution\n",
    "Draw(st.exact, st.mesh, \"exact\")\n"
   ]
  },
  {
   "cell_type": "markdown",
   "metadata": {},
   "source": [
    "Test (print) the result of `coefficient_calc.get_coefficients`, NOTE: this assumes row 55 corersponds to a agrgate vertex which is in particular the case for a 10 $\\times$ 10 square grid, (meaning: this might fail of you changed parts of the grid setup above) "
   ]
  },
  {
   "cell_type": "code",
   "execution_count": 20,
   "metadata": {},
   "outputs": [
    {
     "name": "stdout",
     "output_type": "stream",
     "text": [
      "vertex_id 55 row 55\n",
      "face_id 42\n",
      "vertex: 46    dof: 46    coeff: -0.0     coll: 12\n",
      "vertex: 47    dof: 47    coeff: 0.0     coll: 13\n",
      "vertex: 58    dof: 58    coeff: -2.0000000000000004     coll: 20\n",
      "vertex: 57    dof: 57    coeff: 3.0000000000000004     coll: 19\n"
     ]
    }
   ],
   "source": [
    "def c_fix_row_test(row_index, C):\n",
    "    v_id = st.dof_to_vertex(row_index)\n",
    "    print('vertex_id', v_id, \"row\", row_index)\n",
    "    coefcients = st.coefficient_calc.get_coefficients(v_id, st.cluster_info.get_interpolation_face(v_id))\n",
    "    print(\"face_id\", st.cluster_info.get_interpolation_face(v_id))\n",
    "    for c in coefcients:\n",
    "        dof = st.vertex_to_dof(c.vertex_id)\n",
    "        print(\"vertex:\", c.vertex_id, \"   dof:\", dof, \"   coeff:\", c.coefficient, \"    coll:\", st.dof_convert(dof))\n",
    "c_fix_row_test(55, C)\n"
   ]
  },
  {
   "cell_type": "markdown",
   "metadata": {},
   "source": [
    "Now Test the whole thing for differnt grid sizes"
   ]
  },
  {
   "cell_type": "code",
   "execution_count": 21,
   "metadata": {},
   "outputs": [
    {
     "name": "stdout",
     "output_type": "stream",
     "text": [
      "\n",
      "\n",
      "N = 8\n",
      "error: 0.04143652481890676\n",
      "norm 'a': 239.491826961\n",
      "conditional number: 39188678.2157\n",
      "error new: 0.09653116984338242\n",
      "norm 'a' new: 728.090481247\n"
     ]
    },
    {
     "name": "stderr",
     "output_type": "stream",
     "text": [
      "/usr/lib/python3/dist-packages/scipy/sparse/compressed.py:774: SparseEfficiencyWarning: Changing the sparsity structure of a csr_matrix is expensive. lil_matrix is more efficient.\n",
      "  SparseEfficiencyWarning)\n",
      "/usr/lib/python3/dist-packages/scipy/sparse/linalg/dsolve/linsolve.py:253: SparseEfficiencyWarning: splu requires CSC matrix format\n",
      "  warn('splu requires CSC matrix format', SparseEfficiencyWarning)\n",
      "/usr/lib/python3/dist-packages/scipy/sparse/linalg/dsolve/linsolve.py:171: SparseEfficiencyWarning: spsolve is more efficient when sparse b is in the CSC matrix format\n",
      "  'is in the CSC matrix format', SparseEfficiencyWarning)\n"
     ]
    },
    {
     "name": "stdout",
     "output_type": "stream",
     "text": [
      "conditional number new: 1830.67606256\n",
      "\n",
      "\n",
      "N = 10\n",
      "error: 0.02674610577984627\n",
      "norm 'a': 263.471660322\n",
      "conditional number: 271008880.852\n",
      "error new: 0.0807476565049812\n",
      "norm 'a' new: 1578.66199937\n",
      "conditional number new: 5892.10726404\n",
      "\n",
      "\n",
      "N = 15\n",
      "error: 0.01205543266642842\n",
      "norm 'a': 289.130461704\n",
      "conditional number: 39199.6306497\n",
      "error new: 0.03203005598614145\n",
      "norm 'a' new: 1637.24042548\n",
      "conditional number new: 13797.1226818\n",
      "\n",
      "\n",
      "N = 20\n",
      "error: 0.006842264969305606\n",
      "norm 'a': 372.730027852\n",
      "conditional number: 1031184798.0\n",
      "error new: 0.014049966991262576\n",
      "norm 'a' new: 1981.59362383\n",
      "conditional number new: 29285.0909377\n",
      "\n",
      "\n",
      "N = 30\n",
      "error: 0.0030624330495531847\n",
      "norm 'a': 452.084502242\n",
      "conditional number: 1114142402.47\n",
      "error new: 0.005649642789006835\n",
      "norm 'a' new: 2963.00112465\n",
      "conditional number new: 96857.1549175\n"
     ]
    }
   ],
   "source": [
    "NValues = [8,10,15,20,30]\n",
    "for N in NValues:\n",
    "    print(\"\\n\\nN =\", N)\n",
    "    st = SquareTest()\n",
    "    st.create_mesh(N)\n",
    "    st.create_problem()\n",
    "    st.old_method()\n",
    "    st.ad = AdInfo(st.mesh)\n",
    "    st.cluster_info = CusterInfo(st.ad, st.ci)\n",
    "    st.coefficient_calc = LastStep(st.mesh, st.ci)\n",
    "    st.setup_dof_convert1()\n",
    "    st.setup_dof_convert2()\n",
    "    C = st.create_C()\n",
    "    st.new_method(C)"
   ]
  },
  {
   "cell_type": "code",
   "execution_count": null,
   "metadata": {},
   "outputs": [],
   "source": []
  }
 ],
 "metadata": {
  "kernelspec": {
   "display_name": "Python 3",
   "language": "python",
   "name": "python3"
  },
  "language_info": {
   "codemirror_mode": {
    "name": "ipython",
    "version": 3
   },
   "file_extension": ".py",
   "mimetype": "text/x-python",
   "name": "python",
   "nbconvert_exporter": "python",
   "pygments_lexer": "ipython3",
   "version": "3.6.5"
  }
 },
 "nbformat": 4,
 "nbformat_minor": 2
}
